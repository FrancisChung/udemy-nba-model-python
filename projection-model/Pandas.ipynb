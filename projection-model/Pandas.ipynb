{
 "cells": [
  {
   "cell_type": "markdown",
   "metadata": {},
   "source": [
    "    Importing Pandas"
   ]
  },
  {
   "cell_type": "code",
   "execution_count": 3,
   "metadata": {},
   "outputs": [],
   "source": [
    "%config IPCompleter.greedy=True"
   ]
  },
  {
   "cell_type": "code",
   "execution_count": 4,
   "metadata": {},
   "outputs": [],
   "source": [
    "import pandas as pd"
   ]
  },
  {
   "cell_type": "markdown",
   "metadata": {},
   "source": [
    "    Creating a Database\n",
    "    "
   ]
  },
  {
   "cell_type": "code",
   "execution_count": 5,
   "metadata": {},
   "outputs": [],
   "source": [
    "df = pd.DataFrame()"
   ]
  },
  {
   "cell_type": "code",
   "execution_count": 6,
   "metadata": {},
   "outputs": [
    {
     "name": "stdout",
     "output_type": "stream",
     "text": [
      "Empty DataFrame\n",
      "Columns: []\n",
      "Index: []\n"
     ]
    }
   ],
   "source": [
    "print(df)"
   ]
  },
  {
   "cell_type": "code",
   "execution_count": 7,
   "metadata": {},
   "outputs": [],
   "source": [
    "lakers_dict = {\n",
    "    'first_name' : ['Lebron','Kyle','Lonzo','Brandon','Josh'],\n",
    "    'last_name' : ['James', 'Kuzma','Ball','Ingram','Hart'],\n",
    "    'ppg' : [27.4, 18.7, 9.9, 18.3, 7.8],\n",
    "    'apg' : [8.3, 2.5, 5.4, 3.0, 1.4],\n",
    "    'rpg' : [8.5, 5.5, 5.3, 5.1, 3.7]\n",
    "}"
   ]
  },
  {
   "cell_type": "code",
   "execution_count": 8,
   "metadata": {},
   "outputs": [],
   "source": [
    "df = pd.DataFrame(lakers_dict)"
   ]
  },
  {
   "cell_type": "code",
   "execution_count": 9,
   "metadata": {},
   "outputs": [
    {
     "name": "stdout",
     "output_type": "stream",
     "text": [
      "  first_name last_name   ppg  apg  rpg\n",
      "0     Lebron     James  27.4  8.3  8.5\n",
      "1       Kyle     Kuzma  18.7  2.5  5.5\n",
      "2      Lonzo      Ball   9.9  5.4  5.3\n",
      "3    Brandon    Ingram  18.3  3.0  5.1\n",
      "4       Josh      Hart   7.8  1.4  3.7\n"
     ]
    }
   ],
   "source": [
    "print(df)"
   ]
  },
  {
   "cell_type": "code",
   "execution_count": 11,
   "metadata": {},
   "outputs": [
    {
     "name": "stdout",
     "output_type": "stream",
     "text": [
      "  first_name last_name   ppg  apg  rpg\n",
      "1     Lebron     James  27.4  8.3  8.5\n",
      "2       Kyle     Kuzma  18.7  2.5  5.5\n",
      "3      Lonzo      Ball   9.9  5.4  5.3\n",
      "4    Brandon    Ingram  18.3  3.0  5.1\n",
      "5       Josh      Hart   7.8  1.4  3.7\n"
     ]
    }
   ],
   "source": [
    "df = pd.DataFrame(lakers_dict, index=[1,2,3,4,5])\n",
    "print(df)"
   ]
  },
  {
   "cell_type": "code",
   "execution_count": 12,
   "metadata": {},
   "outputs": [
    {
     "name": "stdout",
     "output_type": "stream",
     "text": [
      "          first_name last_name   ppg  apg  rpg\n",
      "Franchise     Lebron     James  27.4  8.3  8.5\n",
      "PF              Kyle     Kuzma  18.7  2.5  5.5\n",
      "PG             Lonzo      Ball   9.9  5.4  5.3\n",
      "SF           Brandon    Ingram  18.3  3.0  5.1\n",
      "SG              Josh      Hart   7.8  1.4  3.7\n"
     ]
    }
   ],
   "source": [
    "df = pd.DataFrame(lakers_dict, index=['Franchise','PF','PG','SF','SG'])\n",
    "print(df)"
   ]
  },
  {
   "cell_type": "code",
   "execution_count": 13,
   "metadata": {},
   "outputs": [],
   "source": [
    "stats = [['Lebron',4,6], ['Kuzma',2,3], ['Ball',4,4]]"
   ]
  },
  {
   "cell_type": "code",
   "execution_count": 15,
   "metadata": {},
   "outputs": [
    {
     "name": "stdout",
     "output_type": "stream",
     "text": [
      "   Player  Off Reb  Def Reb\n",
      "0  Lebron        4        6\n",
      "1   Kuzma        2        3\n",
      "2    Ball        4        4\n"
     ]
    }
   ],
   "source": [
    "stats_df = pd.DataFrame(stats, columns = ['Player', 'Off Reb','Def Reb'])\n",
    "print(stats_df)"
   ]
  },
  {
   "cell_type": "code",
   "execution_count": 16,
   "metadata": {},
   "outputs": [],
   "source": [
    "rebs = [6,9,11,7,3]"
   ]
  },
  {
   "cell_type": "code",
   "execution_count": 17,
   "metadata": {},
   "outputs": [],
   "source": [
    "series = pd.DataFrame(rebs, columns=['Lebrons_Rebounds'])"
   ]
  },
  {
   "cell_type": "code",
   "execution_count": 18,
   "metadata": {},
   "outputs": [
    {
     "name": "stdout",
     "output_type": "stream",
     "text": [
      "   Lebrons_Rebounds\n",
      "0                 6\n",
      "1                 9\n",
      "2                11\n",
      "3                 7\n",
      "4                 3\n"
     ]
    }
   ],
   "source": [
    "print(series)"
   ]
  },
  {
   "cell_type": "code",
   "execution_count": null,
   "metadata": {},
   "outputs": [],
   "source": []
  }
 ],
 "metadata": {
  "kernelspec": {
   "display_name": "Python 3",
   "language": "python",
   "name": "python3"
  },
  "language_info": {
   "codemirror_mode": {
    "name": "ipython",
    "version": 3
   },
   "file_extension": ".py",
   "mimetype": "text/x-python",
   "name": "python",
   "nbconvert_exporter": "python",
   "pygments_lexer": "ipython3",
   "version": "3.6.6"
  }
 },
 "nbformat": 4,
 "nbformat_minor": 4
}
